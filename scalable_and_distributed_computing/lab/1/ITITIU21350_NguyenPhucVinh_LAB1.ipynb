{
  "cells": [
    {
      "cell_type": "markdown",
      "metadata": {
        "id": "NNiUan1EoX3p"
      },
      "source": [
        "1) Create an iterator that takes in a list and when iterated over, it returns the information in a reverse order.\n",
        "\n",
        "Hint: When accepting arguments into an iterator, you need to use the init method, as well as iter and next. The call below should result in `5, 4, 3, 2, 1`."
      ]
    },
    {
      "cell_type": "code",
      "execution_count": 3,
      "metadata": {
        "colab": {
          "base_uri": "https://localhost:8080/"
        },
        "id": "-6cp8DwaoXXF",
        "outputId": "1fb0d9d4-545a-44d0-d240-e1c765d1a84a"
      },
      "outputs": [
        {
          "name": "stdout",
          "output_type": "stream",
          "text": [
            "5 4 3 2 1\n"
          ]
        }
      ],
      "source": [
        "class ReverseIterator:\n",
        "  def __init__(self, data):\n",
        "    self.data = data\n",
        "    self.index = len(data)\n",
        "\n",
        "  def __iter__(self):\n",
        "    return self\n",
        "\n",
        "  def __next__(self):\n",
        "    if self.index == 0:\n",
        "      raise StopIteration\n",
        "\n",
        "    self.index -= 1\n",
        "    return self.data[self.index]\n",
        "\n",
        "arr = [1, 2, 3, 4, 5]\n",
        "\n",
        "print(*ReverseIterator(arr))"
      ]
    },
    {
      "cell_type": "markdown",
      "metadata": {
        "id": "BVQ72glfoutf"
      },
      "source": [
        "2) Create a generator that acts like the range function, except it yields a squared number every time. The result of the call below should be `0, 1, 4, 16`."
      ]
    },
    {
      "cell_type": "code",
      "execution_count": 4,
      "metadata": {
        "colab": {
          "base_uri": "https://localhost:8080/"
        },
        "id": "owVC8_w3ou6G",
        "outputId": "4b7e3498-6359-4754-a75e-8b3649396bb1"
      },
      "outputs": [
        {
          "name": "stdout",
          "output_type": "stream",
          "text": [
            "0 1 4 9 16\n"
          ]
        }
      ],
      "source": [
        "def squared_number(start, stop):\n",
        "  for n in range(start, stop):\n",
        "    yield n * n\n",
        "\n",
        "print(*squared_number(0, 5))"
      ]
    },
    {
      "cell_type": "markdown",
      "metadata": {
        "id": "WCEoyR5arJoQ"
      },
      "source": [
        "3) Develop a function to compute the finonacci series based on `generator`."
      ]
    },
    {
      "cell_type": "code",
      "execution_count": 5,
      "metadata": {
        "colab": {
          "base_uri": "https://localhost:8080/"
        },
        "id": "HmLc2GfnrJ-z",
        "outputId": "dec299ed-19a8-4d33-8755-32462ef1fcff"
      },
      "outputs": [
        {
          "name": "stdout",
          "output_type": "stream",
          "text": [
            "0 1 1 2 3 5 8 13 21 34\n"
          ]
        }
      ],
      "source": [
        "def finonacci(n):\n",
        "  a, b = 0, 1\n",
        "\n",
        "  for n in range(n):\n",
        "    yield a\n",
        "    a, b = b, a + b\n",
        "\n",
        "print(*finonacci(10))"
      ]
    },
    {
      "cell_type": "markdown",
      "metadata": {
        "id": "xcWeSZiBtLqQ"
      },
      "source": [
        "4) Define a class with a generator which can iterate the numbers, which are divisible by 7, between a given range 0 and n."
      ]
    },
    {
      "cell_type": "code",
      "execution_count": 6,
      "metadata": {
        "colab": {
          "base_uri": "https://localhost:8080/"
        },
        "id": "rJ-iwz5JtNbD",
        "outputId": "618e9a11-f756-4efa-881b-da9b48b7a999"
      },
      "outputs": [
        {
          "name": "stdout",
          "output_type": "stream",
          "text": [
            "7 14 21 28\n"
          ]
        }
      ],
      "source": [
        "class Divisible7:\n",
        "  @classmethod\n",
        "  def generator(cls, n):\n",
        "      n = int(n)\n",
        "      if 0 <= n < 7:\n",
        "        raise ValueError(\"<n> should be greater than or equal 7\")\n",
        "\n",
        "      for i in range(7, n + 1, 7):\n",
        "        yield i\n",
        "\n",
        "\n",
        "arr = Divisible7.generator(\"30\")\n",
        "print(*arr)"
      ]
    },
    {
      "cell_type": "markdown",
      "metadata": {
        "id": "FP-BaKVRth4D"
      },
      "source": [
        "5) Define a class named `American` and its subclass `NewYorker`.\n",
        "\n",
        "Hints:\n",
        "\n",
        "Use class `Subclass(ParentClass)` to define a subclass.\n"
      ]
    },
    {
      "cell_type": "code",
      "execution_count": 7,
      "metadata": {
        "colab": {
          "base_uri": "https://localhost:8080/"
        },
        "id": "2TJTrB99tiRV",
        "outputId": "8c7a562c-935f-43b5-c018-395c966fdf31"
      },
      "outputs": [
        {
          "name": "stdout",
          "output_type": "stream",
          "text": [
            "Vinh at ABC\n"
          ]
        }
      ],
      "source": [
        "class American:\n",
        "  def __init__(self, name):\n",
        "    self.name = name\n",
        "\n",
        "class NewYorker(American):\n",
        "  def __init__(self, name, house):\n",
        "    super().__init__(name)\n",
        "    self.house = house\n",
        "\n",
        "  def __str__(self):\n",
        "    return f\"{self.name} at {self.house}\"\n",
        "\n",
        "vinh = NewYorker(\"Vinh\", \"ABC\")\n",
        "print(vinh)"
      ]
    },
    {
      "cell_type": "markdown",
      "metadata": {
        "id": "Wd7B_CeVt01b"
      },
      "source": [
        "6) Define a class named `Circle` which can be constructed by a radius. The `Circle` class has a method which can compute the area."
      ]
    },
    {
      "cell_type": "code",
      "execution_count": 8,
      "metadata": {
        "colab": {
          "base_uri": "https://localhost:8080/"
        },
        "id": "iQaFglGpt1Au",
        "outputId": "b910e837-bd63-4eb4-bd2b-b83c529aa704"
      },
      "outputs": [
        {
          "name": "stdout",
          "output_type": "stream",
          "text": [
            "28.274333882308138\n"
          ]
        }
      ],
      "source": [
        "import math\n",
        "\n",
        "class Circle:\n",
        "  def __init__(self, radius):\n",
        "    self.radius = int(radius)\n",
        "\n",
        "  def area(self):\n",
        "    return math.pi * (math.pow(self.radius, 2))\n",
        "\n",
        "circle = Circle(3)\n",
        "print(circle.area())"
      ]
    },
    {
      "cell_type": "markdown",
      "metadata": {
        "id": "c9MY9pyKuELX"
      },
      "source": [
        "7) Define a class named `Rectangle` which can be constructed by a `length` and `width`. The `Rectangle` class has a method which can compute the area."
      ]
    },
    {
      "cell_type": "code",
      "execution_count": 9,
      "metadata": {
        "colab": {
          "base_uri": "https://localhost:8080/"
        },
        "id": "36Hyr-tguEba",
        "outputId": "2b18de25-4665-4835-bd28-11fea73aba78"
      },
      "outputs": [
        {
          "name": "stdout",
          "output_type": "stream",
          "text": [
            "6\n"
          ]
        }
      ],
      "source": [
        "class Rectangle:\n",
        "  def __init__(self, length, width):\n",
        "    self.length = int(length)\n",
        "    self.width = int(width)\n",
        "\n",
        "  def area(self):\n",
        "    return self.length * self.width\n",
        "\n",
        "rectangle = Rectangle(3, 2)\n",
        "print(rectangle.area())"
      ]
    },
    {
      "cell_type": "markdown",
      "metadata": {
        "id": "5NAboKzEudPA"
      },
      "source": [
        "8) Define a class Person and its two child classes: `Male` and `Female`. All classes have a method `getGender` which can print `Male` for `Male` class and `Female` for `Female` class."
      ]
    },
    {
      "cell_type": "code",
      "execution_count": 10,
      "metadata": {
        "colab": {
          "base_uri": "https://localhost:8080/"
        },
        "id": "nppOgy02udbI",
        "outputId": "4426f338-929d-4692-9a81-f2176c67fa36"
      },
      "outputs": [
        {
          "name": "stdout",
          "output_type": "stream",
          "text": [
            "Male\n",
            "Female\n"
          ]
        }
      ],
      "source": [
        "class Person:\n",
        "  def __init__(self, name, gender):\n",
        "    self.name = name\n",
        "    self.gender = gender\n",
        "\n",
        "  def getGender(self):\n",
        "    print(self.gender)\n",
        "\n",
        "class Male(Person):\n",
        "  def __init__(self, name):\n",
        "    super().__init__(name, \"Male\")\n",
        "\n",
        "class Female(Person):\n",
        "  def __init__(self, name):\n",
        "    super().__init__(name, \"Female\")\n",
        "\n",
        "male = Male(\"Bob\")\n",
        "male.getGender()\n",
        "\n",
        "female = Female(\"Alice\")\n",
        "female.getGender()"
      ]
    }
  ],
  "metadata": {
    "colab": {
      "provenance": []
    },
    "kernelspec": {
      "display_name": ".venv",
      "language": "python",
      "name": "python3"
    },
    "language_info": {
      "codemirror_mode": {
        "name": "ipython",
        "version": 3
      },
      "file_extension": ".py",
      "mimetype": "text/x-python",
      "name": "python",
      "nbconvert_exporter": "python",
      "pygments_lexer": "ipython3",
      "version": "3.11.2"
    }
  },
  "nbformat": 4,
  "nbformat_minor": 0
}
