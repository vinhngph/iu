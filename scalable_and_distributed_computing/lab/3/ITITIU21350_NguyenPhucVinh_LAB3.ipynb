{
 "cells": [
  {
   "cell_type": "markdown",
   "metadata": {
    "id": "roAyNwmf67Cl"
   },
   "source": [
    "## Exercise 1\n",
    "Write a function to compute the below formualation with the use of map function\n",
    "\\begin{equation}\n",
    "x^2 + y^2 - r^2\n",
    "\\end{equation}\n",
    "\n",
    "then, print out the values of the equation at these below values of $x$, $y$ and $z$\n",
    "```\n",
    "x = [1,2,3,4,5,6]\n",
    "y = [2,3,4,5,6,7]\n",
    "r = [1,1,3,3,4,5]\n",
    "\n",
    "```"
   ]
  },
  {
   "cell_type": "code",
   "execution_count": 2,
   "metadata": {},
   "outputs": [
    {
     "name": "stdout",
     "output_type": "stream",
     "text": [
      "4 12 16 32 45 60\n"
     ]
    }
   ],
   "source": [
    "x = [1, 2, 3, 4, 5, 6]\n",
    "y = [2, 3, 4, 5, 6, 7]\n",
    "r = [1, 1, 3, 3, 4, 5]\n",
    "\n",
    "results = map(lambda x, y, r: (x * x) + (y * y) - (r * r), x, y, r)\n",
    "print(*results)"
   ]
  },
  {
   "cell_type": "markdown",
   "metadata": {
    "id": "jbbvCewW-Zib"
   },
   "source": [
    "## Exercise 2\n",
    "\n",
    "Write a function that take input as a list of words and return to a list of integers representing the lengths of the correponding words.\n",
    "\n",
    "Write it in three different ways:\n",
    "1. using a for-loop,\n",
    "2. using function `map()`, and\n",
    "3. using list comprehensions."
   ]
  },
  {
   "cell_type": "code",
   "execution_count": 9,
   "metadata": {},
   "outputs": [
    {
     "name": "stdout",
     "output_type": "stream",
     "text": [
      "1st way: 6 4 4 1 11\n",
      "2nd way: 6 4 4 1 11\n",
      "3rd way: 6 4 4 1 11\n"
     ]
    }
   ],
   "source": [
    "def length_word_1(words):\n",
    "    rs = []\n",
    "    for word in words:\n",
    "        rs.append(len(word))\n",
    "    return rs\n",
    "\n",
    "\n",
    "def length_word_2(words):\n",
    "    return list(map(lambda word: len(word), words))\n",
    "\n",
    "\n",
    "def length_word_3(words):\n",
    "    return [len(word) for word in words]\n",
    "\n",
    "\n",
    "words = [\"Nguyen\", \"Phuc\", \"Vinh\", \"-\", \"ITITIU21350\"]\n",
    "print(\"1st way:\", *length_word_1(words))\n",
    "print(\"2nd way:\", *length_word_2(words))\n",
    "print(\"3rd way:\", *length_word_3(words))"
   ]
  },
  {
   "cell_type": "markdown",
   "metadata": {
    "id": "wJwBpx3CB6Mz"
   },
   "source": [
    "## Exercise 3\n",
    "\n",
    "Implement a program to make a list whose elements are double string of a string `re` (i.e., `rere`), where `re` is the first two characters of approriate elements in this list:\n",
    "\n",
    "`['real', 'rock', 'realize', 'rocket', 'red', 'eraser' , '7', 8 , 9, 10]`."
   ]
  },
  {
   "cell_type": "code",
   "execution_count": 38,
   "metadata": {},
   "outputs": [
    {
     "name": "stdout",
     "output_type": "stream",
     "text": [
      "rere roro rere roro rere erer\n"
     ]
    }
   ],
   "source": [
    "def make_re(s):\n",
    "    if type(s) != str or not s[:1].isalpha() or len(s) < 2:\n",
    "        return None\n",
    "    return s[0:2] * 2\n",
    "\n",
    "\n",
    "def make_re_list(strings):\n",
    "    re_list = list(map(make_re, strings))\n",
    "    return [e for e in re_list if e is not None]\n",
    "\n",
    "\n",
    "ex3_list = [\"real\", \"rock\", \"realize\", \"rocket\", \"red\", \"eraser\", \"7\", 8, 9, 10]\n",
    "print(*make_re_list(ex3_list))"
   ]
  },
  {
   "cell_type": "markdown",
   "metadata": {
    "id": "FmUuMocREUy4"
   },
   "source": [
    "## Exercise 4\n",
    "\n",
    "Write a function `max_in_list()` that takes a list of numbers and returns the largest one using `reduce()` in lib `functools`"
   ]
  },
  {
   "cell_type": "code",
   "execution_count": 39,
   "metadata": {},
   "outputs": [
    {
     "name": "stdout",
     "output_type": "stream",
     "text": [
      "20\n"
     ]
    }
   ],
   "source": [
    "from functools import reduce\n",
    "\n",
    "\n",
    "def max_in_list(numbers):\n",
    "    return reduce(lambda x, y: x if x > y else y, numbers)\n",
    "\n",
    "\n",
    "numbers = [3, 1, 2, 10, 8, 7, 8, 20]\n",
    "print(max_in_list(numbers))"
   ]
  },
  {
   "cell_type": "markdown",
   "metadata": {
    "id": "HH2WAgksg9wM"
   },
   "source": [
    "## Exercise 5\n",
    "\n",
    "Using Python `map` to write a Python program to triple all numbers of a given list of integers."
   ]
  },
  {
   "cell_type": "code",
   "execution_count": 44,
   "metadata": {},
   "outputs": [
    {
     "name": "stdout",
     "output_type": "stream",
     "text": [
      "9 3 6 30 24 21 24 60\n"
     ]
    }
   ],
   "source": [
    "def triple_all(numbers):\n",
    "    return list(map(lambda x: x * 3, numbers))\n",
    "\n",
    "\n",
    "numbers = [3, 1, 2, 10, 8, 7, 8, 20]\n",
    "print(*triple_all(numbers))"
   ]
  },
  {
   "cell_type": "markdown",
   "metadata": {
    "id": "xv0H5iw_5_mm"
   },
   "source": [
    "## Exercise 6\n",
    "Implement parallel processing using `map()` to apply a function across multiple elements of an iterable concurrently, and then use `reduce()` to aggregate the results."
   ]
  },
  {
   "cell_type": "code",
   "execution_count": 9,
   "metadata": {},
   "outputs": [
    {
     "name": "stdout",
     "output_type": "stream",
     "text": [
      "20\n",
      "9999998\n"
     ]
    }
   ],
   "source": [
    "from functools import reduce\n",
    "from multiprocessing import Pool\n",
    "import random\n",
    "\n",
    "\n",
    "def my_find_max(string_numbers):\n",
    "    with Pool() as pool:\n",
    "        numbers = pool.map(int, string_numbers)\n",
    "\n",
    "    return reduce(lambda x, y: x if x > y else y, numbers)\n",
    "\n",
    "\n",
    "def generate_random_string_numbers(n):\n",
    "    return [str(random.randint(0, n)) for _ in range(n)]\n",
    "\n",
    "\n",
    "numbers = [\"3\", \"1\", \"2\", \"10\", \"8\", \"7\", \"8\", \"20\"]\n",
    "print(my_find_max(numbers))\n",
    "\n",
    "\n",
    "large_numbers = generate_random_string_numbers(10000000)\n",
    "print(my_find_max(large_numbers))"
   ]
  },
  {
   "cell_type": "markdown",
   "metadata": {
    "id": "IF_ouBU-6IYz"
   },
   "source": [
    "## Exercise 7\n",
    "Implement a MapReduce-style function to process data distributed across multiple nodes or workers."
   ]
  },
  {
   "cell_type": "code",
   "execution_count": null,
   "metadata": {},
   "outputs": [
    {
     "name": "stdout",
     "output_type": "stream",
     "text": [
      "{1: 2, 2: 3, 3: 1, 4: 2, 5: 1, 6: 1, 7: 1, 8: 1, 9: 1, 10: 1, 11: 2}\n"
     ]
    }
   ],
   "source": [
    "from multiprocessing import Pool\n",
    "\n",
    "\n",
    "class MapReduce:\n",
    "    def __init__(self, num_workers=2):\n",
    "        self.num_workers = num_workers\n",
    "\n",
    "    @property\n",
    "    def num_workers(self):\n",
    "        return self._num_workers\n",
    "\n",
    "    @num_workers.setter\n",
    "    def num_workers(self, num):\n",
    "        num = int(num)\n",
    "        if num < 2:\n",
    "            raise ValueError(\"must be greater than 1\")\n",
    "        self._num_workers = num\n",
    "\n",
    "    def distribute_data(self, data):\n",
    "        k, m = divmod(len(data), self.num_workers)\n",
    "        return [\n",
    "            data[i * k + min(i, m) : (i + 1) * k + min(i + 1, m)]\n",
    "            for i in range(self.num_workers)\n",
    "        ]\n",
    "\n",
    "    def map_phase(self, chunk):\n",
    "        return [(word, 1) for word in chunk]\n",
    "\n",
    "    def reduce_phase(self, mapped_data):\n",
    "        word_count = {}\n",
    "\n",
    "        for word, count in mapped_data:\n",
    "            word_count[word] = word_count.get(word, 0) + count\n",
    "        return word_count\n",
    "\n",
    "    def process(self, data):\n",
    "        distributed_data = self.distribute_data(data)\n",
    "\n",
    "        # Map phase\n",
    "        with Pool() as pool:\n",
    "            map_result = pool.map(self.map_phase, distributed_data)\n",
    "\n",
    "        # Flat the data\n",
    "        map_result = [word for item in map_result for word in item]\n",
    "\n",
    "        # Reduce phase\n",
    "        return self.reduce_phase(map_result)\n",
    "\n",
    "\n",
    "map_reduce = MapReduce()\n",
    "print(map_reduce.process([1, 2, 3, 4, 5, 6, 7, 8, 9, 10, 11, 11, 2, 1, 2, 4]))"
   ]
  }
 ],
 "metadata": {
  "colab": {
   "provenance": [
    {
     "file_id": "1zZmgmXNJ4S7NhYX0tpaDbQT7ool6ZTKP",
     "timestamp": 1745315502768
    }
   ]
  },
  "kernelspec": {
   "display_name": ".venv",
   "language": "python",
   "name": "python3"
  },
  "language_info": {
   "codemirror_mode": {
    "name": "ipython",
    "version": 3
   },
   "file_extension": ".py",
   "mimetype": "text/x-python",
   "name": "python",
   "nbconvert_exporter": "python",
   "pygments_lexer": "ipython3",
   "version": "3.11.2"
  }
 },
 "nbformat": 4,
 "nbformat_minor": 0
}
